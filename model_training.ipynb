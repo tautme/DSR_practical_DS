{
 "cells": [
  {
   "attachments": {},
   "cell_type": "markdown",
   "id": "851b5c81-d773-46bc-a223-65dfbab13732",
   "metadata": {},
   "source": [
    "## Customer Churn Prediction Model\n",
    "\n",
    "Using the [Telco customer churn data](https://www.kaggle.com/code/mechatronixs/telco-churn-prediction-feature-engineering-eda/data) from kaggle, train a machine learning model to predict customer churn."
   ]
  },
  {
   "cell_type": "code",
   "execution_count": null,
   "id": "c2b1d345-2798-4987-9c1a-234ecd77cdfd",
   "metadata": {},
   "outputs": [],
   "source": [
    "import pandas as pd"
   ]
  },
  {
   "cell_type": "code",
   "execution_count": null,
   "id": "35cc697b-2333-49e0-a1b2-c81266c43059",
   "metadata": {},
   "outputs": [],
   "source": [
    "# get training data\n",
    "train = pd.read_csv(\"./data/training_data.csv\")\n",
    "# drop customer ID: not a feature for training \n",
    "train.drop(\"customerID\", axis=1, inplace=True)\n",
    "\n",
    "# getting validation data\n",
    "val = pd.read_csv(\"./data/validation_data.csv\")"
   ]
  },
  {
   "cell_type": "code",
   "execution_count": null,
   "id": "7dfc2435",
   "metadata": {},
   "outputs": [],
   "source": [
    "customer_row = {\n",
    "    'gender': gender,\n",
    "    'SeniorCitizen': senior_citizen, \n",
    "    'Partner': partner, \n",
    "    'Dependents': dependents,\n",
    "    'tenure': tenure,\n",
    "    'PhoneService': phone_service,\n",
    "    'MultipleLines': multiple_lines,\n",
    "    'InternetService': internet_service,\n",
    "    'OnlineSecurity': online_security,\n",
    "    'OnlineBackup': online_backup,\n",
    "    'DeviceProtection': device_protection,\n",
    "    'TechSupport': tech_support,\n",
    "    'StreamingTV': streaming_tv,\n",
    "    'StreamingMovies': streaming_movies,\n",
    "    'Contract': contract,\n",
    "    'PaperlessBilling': paperless_billing,\n",
    "    'PaymentMethod': payment_method,\n",
    "    'MonthlyCharges': monthly_charges,\n",
    "    'TotalCharges': total_charges\n",
    "}"
   ]
  },
  {
   "cell_type": "code",
   "execution_count": null,
   "id": "7f740fff",
   "metadata": {},
   "outputs": [],
   "source": [
    "from sklearn.preprocessing import LabelEncoder\n",
    "\n",
    "le = LabelEncoder()\n",
    "\n",
    "le.fit(train['gender'])\n",
    "\n",
    "### le.transform(train['gender']) ## remove\n",
    "\n",
    "transformed_column = le.transform(train['gender'])\n",
    "\n"
   ]
  },
  {
   "cell_type": "code",
   "execution_count": null,
   "id": "c0827a45",
   "metadata": {},
   "outputs": [],
   "source": [
    "train.columns"
   ]
  },
  {
   "cell_type": "code",
   "execution_count": null,
   "id": "2382ff24",
   "metadata": {},
   "outputs": [],
   "source": [
    "## from above copy and remove numberical columns\n",
    "categorical_columns = ['gender', 'Partner', 'Dependents', 'PhoneService', 'MultipleLines', 'InternetService', 'OnlineSecurity',\n",
    "       'OnlineBackup', 'DeviceProtection', 'TechSupport', 'StreamingTV',\n",
    "       'StreamingMovies', 'Contract', 'PaperlessBilling', 'PaymentMethod', 'Churn']"
   ]
  },
  {
   "cell_type": "code",
   "execution_count": null,
   "id": "bfd31297",
   "metadata": {},
   "outputs": [],
   "source": [
    "column_mapper = {}\n",
    "\n",
    "for column in categorical_columns:\n",
    "    le = LabelEncoder()\n",
    "    le.fit(train.loc[:, column])\n",
    "    # train.loc[:, column] = le.transform(train.loc[:, column])\n",
    "    column_mapper[column] = le"
   ]
  },
  {
   "cell_type": "code",
   "execution_count": null,
   "id": "9a8e93ac",
   "metadata": {},
   "outputs": [],
   "source": [
    "def pre_process_data(df, label_encoder_dict):\n",
    "    df_out = df.copy()\n",
    "    df_out.replace(\" \", 0, inplace=True)\n",
    "    df_out.loc[:, 'TotalCharges'] = pd.to_numeric(df_out.loc[:, 'TotalCharges'])\n",
    "\n",
    "    if 'customerID' in df_out.columns:\n",
    "        df_out.drop('customerID', axis=1, inplace=True)\n",
    "\n",
    "    for column, le in label_encoder_dict.items():\n",
    "        df_out.loc[:, column] = le.transform(df_out.loc[:, column])\n",
    "\n",
    "    return df_out"
   ]
  },
  {
   "cell_type": "code",
   "execution_count": null,
   "id": "9f6d85c7",
   "metadata": {},
   "outputs": [],
   "source": [
    "train_processed = pre_process_data(train, column_mapper)\n",
    "val_processed = pre_process_data(val, column_mapper)\n",
    "val_processed"
   ]
  },
  {
   "cell_type": "code",
   "execution_count": null,
   "id": "409dbf30",
   "metadata": {},
   "outputs": [],
   "source": [
    "x_train = train_processed.drop('Churn', axis=1)\n",
    "y_train = train_processed.loc[:, 'Churn'].astype(int) ## error after changing to int\n",
    "\n",
    "y_train"
   ]
  },
  {
   "cell_type": "code",
   "execution_count": null,
   "id": "54cfcb16",
   "metadata": {},
   "outputs": [],
   "source": [
    "from sklearn.linear_model import LogisticRegression\n",
    "\n",
    "model = LogisticRegression(max_iter=1000)\n",
    "model.fit(x_train, y_train)"
   ]
  },
  {
   "cell_type": "code",
   "execution_count": null,
   "id": "97dc84e2",
   "metadata": {},
   "outputs": [],
   "source": [
    "x_val = val_processed.drop('Churn', axis=1)\n",
    "y_val = val_processed.loc[:, 'Churn'].astype(int)\n",
    "\n",
    "predictions = model.predict(x_val)\n",
    "predictions"
   ]
  },
  {
   "cell_type": "code",
   "execution_count": null,
   "id": "df8b75b1",
   "metadata": {},
   "outputs": [],
   "source": [
    "pd.DataFrame(model.coef_, columns=x_val.columns)"
   ]
  },
  {
   "cell_type": "code",
   "execution_count": null,
   "id": "bcc7b699",
   "metadata": {},
   "outputs": [],
   "source": []
  },
  {
   "cell_type": "code",
   "execution_count": null,
   "id": "9a2b987a",
   "metadata": {},
   "outputs": [],
   "source": [
    "from sklearn.metrics import accuracy_score\n",
    "\n",
    "accuracy = accuracy_score(y_val, predictions)\n",
    "print(f\"Classification accuracy: {round(accuracy, 3)}\")"
   ]
  },
  {
   "cell_type": "code",
   "execution_count": null,
   "id": "d6e2f9b0",
   "metadata": {},
   "outputs": [],
   "source": [
    "import pickle\n",
    "\n",
    "with open(\"./models/churn_prediction_model.pkl\", \"wb\") as pickler:\n",
    "    pickle.dump(model, pickler)\n",
    "\n",
    "with open(\"./models/churn_prediction_label_encoder.pkl\", \"wb\") as pickler:\n",
    "    pickle.dump(column_mapper, pickler)"
   ]
  },
  {
   "cell_type": "code",
   "execution_count": null,
   "id": "6f324e31",
   "metadata": {},
   "outputs": [],
   "source": []
  }
 ],
 "metadata": {
  "kernelspec": {
   "display_name": "dsr-b34",
   "language": "python",
   "name": "dsr-setup"
  },
  "language_info": {
   "codemirror_mode": {
    "name": "ipython",
    "version": 3
   },
   "file_extension": ".py",
   "mimetype": "text/x-python",
   "name": "python",
   "nbconvert_exporter": "python",
   "pygments_lexer": "ipython3",
   "version": "3.8.8"
  }
 },
 "nbformat": 4,
 "nbformat_minor": 5
}
